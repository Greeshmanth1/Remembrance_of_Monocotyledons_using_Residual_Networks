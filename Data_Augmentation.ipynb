{
 "cells": [
  {
   "cell_type": "code",
   "execution_count": 1,
   "id": "18480ab4",
   "metadata": {},
   "outputs": [],
   "source": [
    "from keras.preprocessing.image import ImageDataGenerator, array_to_img, img_to_array, load_img\n",
    "import cv2\n",
    "from pathlib import Path\n",
    "from PIL import Image\n",
    "import PIL\n",
    "import os"
   ]
  },
  {
   "cell_type": "code",
   "execution_count": 2,
   "id": "5939bdeb",
   "metadata": {},
   "outputs": [],
   "source": [
    "datagen = ImageDataGenerator(\n",
    "        rotation_range=25,\n",
    "        width_shift_range=0.15,\n",
    "        height_shift_range=0.15,\n",
    "        shear_range=0.1,\n",
    "        zoom_range=0.15,\n",
    "        horizontal_flip=True,\n",
    "        fill_mode='nearest')"
   ]
  },
  {
   "cell_type": "code",
   "execution_count": 3,
   "id": "36cd84e1",
   "metadata": {},
   "outputs": [],
   "source": [
    "def augment(folder_dir, new_folder, monocot):\n",
    "    os.listdir(folder_dir)\n",
    "    for file in os.listdir(folder_dir):\n",
    "        f_img = folder_dir+\"/\"+file\n",
    "        img = Image.open(f_img)\n",
    "        print(type(img))\n",
    "        x = img_to_array(img) \n",
    "        x = x.reshape((1,) + x.shape)\n",
    "        i = 0\n",
    "        for batch in datagen.flow(x, batch_size=1,save_to_dir=folder_updated, save_prefix=monocot):\n",
    "            i += 1\n",
    "            if i > 10:\n",
    "                break  # otherwise the generator would loop indefinitely"
   ]
  },
  {
   "cell_type": "code",
   "execution_count": null,
   "id": "da68096b",
   "metadata": {},
   "outputs": [],
   "source": [
    "monocot=\"wheat\"\n",
    "folder_dir = r'F:\\DUMP\\Dataset - Copy\\\\'+ monocot\n",
    "new_folder=r'F:\\DUMP\\Datasetupdated\\wheat\\\\'+ monocot\n",
    "augment(folder_dir, new_folder, monocot)"
   ]
  }
 ],
 "metadata": {
  "kernelspec": {
   "display_name": "Python 3 (ipykernel)",
   "language": "python",
   "name": "python3"
  },
  "language_info": {
   "codemirror_mode": {
    "name": "ipython",
    "version": 3
   },
   "file_extension": ".py",
   "mimetype": "text/x-python",
   "name": "python",
   "nbconvert_exporter": "python",
   "pygments_lexer": "ipython3",
   "version": "3.9.7"
  }
 },
 "nbformat": 4,
 "nbformat_minor": 5
}
