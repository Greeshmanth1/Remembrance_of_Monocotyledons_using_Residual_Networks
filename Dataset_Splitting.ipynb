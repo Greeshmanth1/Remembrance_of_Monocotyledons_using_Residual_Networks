{
 "cells": [
  {
   "cell_type": "code",
   "execution_count": 8,
   "id": "b92d2277",
   "metadata": {},
   "outputs": [],
   "source": [
    "# ! pip install split_folders "
   ]
  },
  {
   "cell_type": "code",
   "execution_count": 1,
   "id": "4e8a2226",
   "metadata": {},
   "outputs": [],
   "source": [
    "import splitfolders\n",
    "import os\n",
    "from PIL import Image"
   ]
  },
  {
   "cell_type": "code",
   "execution_count": 10,
   "id": "44712b9c",
   "metadata": {},
   "outputs": [],
   "source": [
    "def folder_check(folder_path):\n",
    "    extensions = []\n",
    "    for fldr in os.listdir(folder_path):\n",
    "        sub_folder_path = os.path.join(folder_path, fldr)\n",
    "        for filee in os.listdir(sub_folder_path):\n",
    "            file_path = os.path.join(sub_folder_path, filee)\n",
    "            print('** Path: {}  **'.format(file_path), end=\"\\r\", flush=True)\n",
    "            im = Image.open(file_path)\n",
    "            rgb_im = im.convert('RGB')\n",
    "            if filee.split('.')[1] not in extensions:\n",
    "                extensions.append(filee.split('.')[1])\n",
    "    return extensions"
   ]
  },
  {
   "cell_type": "code",
   "execution_count": 2,
   "id": "f2f6d211",
   "metadata": {},
   "outputs": [],
   "source": [
    "def split_folder(input_folder, output_folder):\n",
    "    splitfolders.ratio(input_folder, output_folder,seed=42,random_state=20, ratio=(.7,.15,.15))"
   ]
  },
  {
   "cell_type": "code",
   "execution_count": null,
   "id": "2d583cfa",
   "metadata": {},
   "outputs": [],
   "source": [
    "folder_path = r'F:\\DUMP\\Data_split\\train'\n",
    "extensions=folder_check(folder_path)\n",
    "print(extensions)\n",
    "input_folder=r'F:\\DUMP\\Data'\n",
    "output_folder=r'F:\\DUMP\\Data_split'\n",
    "split_folder(input_folder, output_folder)"
   ]
  }
 ],
 "metadata": {
  "kernelspec": {
   "display_name": "Python 3 (ipykernel)",
   "language": "python",
   "name": "python3"
  },
  "language_info": {
   "codemirror_mode": {
    "name": "ipython",
    "version": 3
   },
   "file_extension": ".py",
   "mimetype": "text/x-python",
   "name": "python",
   "nbconvert_exporter": "python",
   "pygments_lexer": "ipython3",
   "version": "3.9.7"
  }
 },
 "nbformat": 4,
 "nbformat_minor": 5
}
