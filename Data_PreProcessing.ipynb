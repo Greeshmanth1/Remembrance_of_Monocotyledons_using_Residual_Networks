{
 "cells": [
  {
   "cell_type": "code",
   "execution_count": 1,
   "id": "31278a92",
   "metadata": {},
   "outputs": [],
   "source": [
    "from pathlib import Path\n",
    "from PIL import Image\n",
    "import PIL\n",
    "import os"
   ]
  },
  {
   "cell_type": "code",
   "execution_count": 5,
   "id": "9aa18a7f",
   "metadata": {},
   "outputs": [],
   "source": [
    "def rename(folder_dir,monocot):\n",
    "    for count, filename in enumerate(os.listdir(folder_dir)):\n",
    "        dst = f\"{monocot}_{str(count+1)}.jpeg\"\n",
    "        src =f\"{folder_dir}/{filename}\"  \n",
    "        dst =f\"{folder_dir}/{dst}\"\n",
    "        os.rename(src, dst)"
   ]
  },
  {
   "cell_type": "code",
   "execution_count": 4,
   "id": "d917388e",
   "metadata": {},
   "outputs": [],
   "source": [
    "def resize_images(folder_dir):\n",
    "    os.listdir(folder_dir)\n",
    "    for file in os.listdir(folder_dir):\n",
    "        try:\n",
    "            f_img = folder_dir+\"/\"+file\n",
    "            img = Image.open(f_img)\n",
    "            img = img.resize((224,224))\n",
    "            img.save(f_img,quality=100)\n",
    "        except:\n",
    "            pass"
   ]
  },
  {
   "cell_type": "code",
   "execution_count": 9,
   "id": "6f0ef25f",
   "metadata": {},
   "outputs": [],
   "source": [
    "monocot=\"wheat\"\n",
    "dir=r\"F:\\DUMP\\Data\"+\"\\\\\"\n",
    "folder_dir = dir+monocot\n",
    "rename(folder_dir,monocot)\n",
    "resize_images(folder_dir)\n"
   ]
  }
 ],
 "metadata": {
  "kernelspec": {
   "display_name": "Python 3 (ipykernel)",
   "language": "python",
   "name": "python3"
  },
  "language_info": {
   "codemirror_mode": {
    "name": "ipython",
    "version": 3
   },
   "file_extension": ".py",
   "mimetype": "text/x-python",
   "name": "python",
   "nbconvert_exporter": "python",
   "pygments_lexer": "ipython3",
   "version": "3.9.7"
  }
 },
 "nbformat": 4,
 "nbformat_minor": 5
}
